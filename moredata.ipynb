{
 "cells": [
  {
   "cell_type": "code",
   "execution_count": 14,
   "metadata": {},
   "outputs": [],
   "source": [
    "import os\n",
    "from six.moves import urllib\n",
    "import zipfile\n",
    "import pandas as pd\n",
    "\n",
    "DOWNLOAD_EPA_ROOT = \"https://aqs.epa.gov/aqsweb/airdata/annual_aqi_by_county_\"\n",
    "AQI_BASE_NAME = \"annual_aqi_by_county_\"\n",
    "EPA_PATH = \"epa_data\"\n",
    "\n",
    "def fetch_annual_aqi_data(years, epa_root=DOWNLOAD_EPA_ROOT, data_path=EPA_PATH):\n",
    "    if not os.path.isdir(data_path):\n",
    "        os.makedirs(data_path)\n",
    "        \n",
    "    data_frames = []\n",
    "    for year in years:\n",
    "        # build download url and download zip file\n",
    "        aqi_url = f\"{epa_root}{year}.zip\"\n",
    "        aqi_name = f\"{AQI_BASE_NAME}{year}.zip\"\n",
    "        zip_path = os.path.join(data_path, aqi_name)\n",
    "        urllib.request.urlretrieve(aqi_url, zip_path)\n",
    "        \n",
    "        # extract zip file\n",
    "        zip_ref = zipfile.ZipFile(zip_path, 'r')\n",
    "        zip_ref.extractall(data_path)\n",
    "        zip_ref.close()\n",
    "        \n",
    "        # read csv\n",
    "        aqi_csv_name = f\"{AQI_BASE_NAME}{year}.csv\"\n",
    "        aqi_csv_path = os.path.join(data_path, aqi_csv_name)\n",
    "        data_frames.append(pd.read_csv(aqi_csv_path))\n",
    "        \n",
    "    # write out combined data\n",
    "    all_csv_name = \"all_years.csv\"\n",
    "    all_csv_path = os.path.join(data_path, all_csv_name)\n",
    "    \n",
    "    all_df = pd.concat(data_frames, ignore_index=True)\n",
    "    all_df.to_csv(all_csv_path)\n",
    "    \n",
    "    return all_df\n",
    "        "
   ]
  },
  {
   "cell_type": "code",
   "execution_count": 12,
   "metadata": {},
   "outputs": [],
   "source": [
    "# This is the reference to the small area census data and the years available\n",
    "#https://www.census.gov/cgi-bin/nbroker?_service=sas_serv1&_debug=0&_program=cedr.sasapp_main.sas&s_output=csv&s_orderBy=id%20asc,id%20asc,%20year%20desc&s_appName=saipe&menu=grid_proxy&s_year=2017,2016,2015,2013,2014,2012,2010,2011,2009,2008,2007,2006,2005,2004,2003,2002,2001,2000,1999,1998,1997,1996,1995,1993,1989&s_state=&s_county=&s_district=&s_USStOnly=n&s_inclUsTot=n&s_inclStTot=n&s_measures=aa_snc\n",
    "\n",
    "all_years = fetch_annual_aqi_data([2017,2016,2015,2013,2014,2012,2010,2011,2009,2008,2007,2006,2005,2004,2003,2002,2001,2000,1999,1998,1997,1996,1995,1993,1989])"
   ]
  },
  {
   "cell_type": "code",
   "execution_count": 13,
   "metadata": {},
   "outputs": [
    {
     "data": {
      "text/plain": [
       "(26385, 19)"
      ]
     },
     "execution_count": 13,
     "metadata": {},
     "output_type": "execute_result"
    }
   ],
   "source": [
    "all_years.shape"
   ]
  },
  {
   "cell_type": "code",
   "execution_count": 18,
   "metadata": {},
   "outputs": [],
   "source": [
    "small_area_df = pd.read_csv(\"SAIPESNC_10APR19_19_47_46_33.csv\")"
   ]
  },
  {
   "cell_type": "code",
   "execution_count": 19,
   "metadata": {},
   "outputs": [
    {
     "data": {
      "text/plain": [
       "(78543, 44)"
      ]
     },
     "execution_count": 19,
     "metadata": {},
     "output_type": "execute_result"
    }
   ],
   "source": [
    "small_area_df.shape"
   ]
  },
  {
   "cell_type": "code",
   "execution_count": 17,
   "metadata": {},
   "outputs": [
    {
     "data": {
      "text/html": [
       "<div>\n",
       "<style scoped>\n",
       "    .dataframe tbody tr th:only-of-type {\n",
       "        vertical-align: middle;\n",
       "    }\n",
       "\n",
       "    .dataframe tbody tr th {\n",
       "        vertical-align: top;\n",
       "    }\n",
       "\n",
       "    .dataframe thead th {\n",
       "        text-align: right;\n",
       "    }\n",
       "</style>\n",
       "<table border=\"1\" class=\"dataframe\">\n",
       "  <thead>\n",
       "    <tr style=\"text-align: right;\">\n",
       "      <th></th>\n",
       "      <th>State</th>\n",
       "      <th>County</th>\n",
       "      <th>Year</th>\n",
       "      <th>Days with AQI</th>\n",
       "      <th>Good Days</th>\n",
       "      <th>Moderate Days</th>\n",
       "      <th>Unhealthy for Sensitive Groups Days</th>\n",
       "      <th>Unhealthy Days</th>\n",
       "      <th>Very Unhealthy Days</th>\n",
       "      <th>Hazardous Days</th>\n",
       "      <th>Max AQI</th>\n",
       "      <th>90th Percentile AQI</th>\n",
       "      <th>Median AQI</th>\n",
       "      <th>Days CO</th>\n",
       "      <th>Days NO2</th>\n",
       "      <th>Days Ozone</th>\n",
       "      <th>Days SO2</th>\n",
       "      <th>Days PM2.5</th>\n",
       "      <th>Days PM10</th>\n",
       "    </tr>\n",
       "  </thead>\n",
       "  <tbody>\n",
       "    <tr>\n",
       "      <th>0</th>\n",
       "      <td>Alabama</td>\n",
       "      <td>Baldwin</td>\n",
       "      <td>2017</td>\n",
       "      <td>270</td>\n",
       "      <td>241</td>\n",
       "      <td>28</td>\n",
       "      <td>1</td>\n",
       "      <td>0</td>\n",
       "      <td>0</td>\n",
       "      <td>0</td>\n",
       "      <td>108</td>\n",
       "      <td>51</td>\n",
       "      <td>36</td>\n",
       "      <td>0</td>\n",
       "      <td>0</td>\n",
       "      <td>206</td>\n",
       "      <td>0</td>\n",
       "      <td>64</td>\n",
       "      <td>0</td>\n",
       "    </tr>\n",
       "    <tr>\n",
       "      <th>1</th>\n",
       "      <td>Alabama</td>\n",
       "      <td>Clay</td>\n",
       "      <td>2017</td>\n",
       "      <td>118</td>\n",
       "      <td>104</td>\n",
       "      <td>14</td>\n",
       "      <td>0</td>\n",
       "      <td>0</td>\n",
       "      <td>0</td>\n",
       "      <td>0</td>\n",
       "      <td>66</td>\n",
       "      <td>52</td>\n",
       "      <td>30</td>\n",
       "      <td>0</td>\n",
       "      <td>0</td>\n",
       "      <td>0</td>\n",
       "      <td>0</td>\n",
       "      <td>118</td>\n",
       "      <td>0</td>\n",
       "    </tr>\n",
       "    <tr>\n",
       "      <th>2</th>\n",
       "      <td>Alabama</td>\n",
       "      <td>Colbert</td>\n",
       "      <td>2017</td>\n",
       "      <td>283</td>\n",
       "      <td>265</td>\n",
       "      <td>18</td>\n",
       "      <td>0</td>\n",
       "      <td>0</td>\n",
       "      <td>0</td>\n",
       "      <td>0</td>\n",
       "      <td>63</td>\n",
       "      <td>48</td>\n",
       "      <td>37</td>\n",
       "      <td>0</td>\n",
       "      <td>0</td>\n",
       "      <td>218</td>\n",
       "      <td>0</td>\n",
       "      <td>65</td>\n",
       "      <td>0</td>\n",
       "    </tr>\n",
       "    <tr>\n",
       "      <th>3</th>\n",
       "      <td>Alabama</td>\n",
       "      <td>DeKalb</td>\n",
       "      <td>2017</td>\n",
       "      <td>359</td>\n",
       "      <td>329</td>\n",
       "      <td>30</td>\n",
       "      <td>0</td>\n",
       "      <td>0</td>\n",
       "      <td>0</td>\n",
       "      <td>0</td>\n",
       "      <td>80</td>\n",
       "      <td>50</td>\n",
       "      <td>39</td>\n",
       "      <td>0</td>\n",
       "      <td>0</td>\n",
       "      <td>315</td>\n",
       "      <td>0</td>\n",
       "      <td>44</td>\n",
       "      <td>0</td>\n",
       "    </tr>\n",
       "    <tr>\n",
       "      <th>4</th>\n",
       "      <td>Alabama</td>\n",
       "      <td>Elmore</td>\n",
       "      <td>2017</td>\n",
       "      <td>226</td>\n",
       "      <td>221</td>\n",
       "      <td>5</td>\n",
       "      <td>0</td>\n",
       "      <td>0</td>\n",
       "      <td>0</td>\n",
       "      <td>0</td>\n",
       "      <td>58</td>\n",
       "      <td>45</td>\n",
       "      <td>35</td>\n",
       "      <td>0</td>\n",
       "      <td>0</td>\n",
       "      <td>226</td>\n",
       "      <td>0</td>\n",
       "      <td>0</td>\n",
       "      <td>0</td>\n",
       "    </tr>\n",
       "  </tbody>\n",
       "</table>\n",
       "</div>"
      ],
      "text/plain": [
       "     State   County  Year  Days with AQI  Good Days    ...      Days NO2  Days Ozone  Days SO2  Days PM2.5  Days PM10\n",
       "0  Alabama  Baldwin  2017            270        241    ...             0         206         0          64          0\n",
       "1  Alabama     Clay  2017            118        104    ...             0           0         0         118          0\n",
       "2  Alabama  Colbert  2017            283        265    ...             0         218         0          65          0\n",
       "3  Alabama   DeKalb  2017            359        329    ...             0         315         0          44          0\n",
       "4  Alabama   Elmore  2017            226        221    ...             0         226         0           0          0\n",
       "\n",
       "[5 rows x 19 columns]"
      ]
     },
     "execution_count": 17,
     "metadata": {},
     "output_type": "execute_result"
    }
   ],
   "source": [
    "all_years.head()"
   ]
  },
  {
   "cell_type": "code",
   "execution_count": 40,
   "metadata": {},
   "outputs": [
    {
     "data": {
      "text/plain": [
       "'Autauga (AL)'"
      ]
     },
     "execution_count": 40,
     "metadata": {},
     "output_type": "execute_result"
    }
   ],
   "source": [
    "small_area_df.loc[0, 'State / County Name'].replace(' County','')"
   ]
  },
  {
   "cell_type": "code",
   "execution_count": 47,
   "metadata": {},
   "outputs": [
    {
     "data": {
      "text/plain": [
       "'Baldwin (AL)'"
      ]
     },
     "execution_count": 47,
     "metadata": {},
     "output_type": "execute_result"
    }
   ],
   "source": [
    "f\"{all_years.loc[0,'County']} ({us_state_abbrev[all_years.loc[0,'State']]})\""
   ]
  },
  {
   "cell_type": "code",
   "execution_count": 51,
   "metadata": {},
   "outputs": [],
   "source": [
    "def combine_state_county (df):\n",
    "    new_column = []\n",
    "    for index, row in df.iterrows():\n",
    "        new_column.append(f\"{df.loc[index,'County']} County, ({us_state_abbrev[df.loc[index,'State']]})\")\n",
    "\n",
    "    return new_column"
   ]
  },
  {
   "cell_type": "code",
   "execution_count": 52,
   "metadata": {},
   "outputs": [
    {
     "ename": "KeyError",
     "evalue": "'Country Of Mexico'",
     "output_type": "error",
     "traceback": [
      "\u001b[1;31m---------------------------------------------------------------------------\u001b[0m",
      "\u001b[1;31mKeyError\u001b[0m                                  Traceback (most recent call last)",
      "\u001b[1;32m<ipython-input-52-5f6990d0fbd3>\u001b[0m in \u001b[0;36m<module>\u001b[1;34m\u001b[0m\n\u001b[1;32m----> 1\u001b[1;33m \u001b[0mcombine_state_county\u001b[0m\u001b[1;33m(\u001b[0m\u001b[0mall_years\u001b[0m\u001b[1;33m)\u001b[0m\u001b[1;33m\u001b[0m\u001b[1;33m\u001b[0m\u001b[0m\n\u001b[0m",
      "\u001b[1;32m<ipython-input-51-14aa6cb69bf9>\u001b[0m in \u001b[0;36mcombine_state_county\u001b[1;34m(df)\u001b[0m\n\u001b[0;32m      2\u001b[0m     \u001b[0mnew_column\u001b[0m \u001b[1;33m=\u001b[0m \u001b[1;33m[\u001b[0m\u001b[1;33m]\u001b[0m\u001b[1;33m\u001b[0m\u001b[1;33m\u001b[0m\u001b[0m\n\u001b[0;32m      3\u001b[0m     \u001b[1;32mfor\u001b[0m \u001b[0mindex\u001b[0m\u001b[1;33m,\u001b[0m \u001b[0mrow\u001b[0m \u001b[1;32min\u001b[0m \u001b[0mdf\u001b[0m\u001b[1;33m.\u001b[0m\u001b[0miterrows\u001b[0m\u001b[1;33m(\u001b[0m\u001b[1;33m)\u001b[0m\u001b[1;33m:\u001b[0m\u001b[1;33m\u001b[0m\u001b[1;33m\u001b[0m\u001b[0m\n\u001b[1;32m----> 4\u001b[1;33m         \u001b[0mnew_column\u001b[0m\u001b[1;33m.\u001b[0m\u001b[0mappend\u001b[0m\u001b[1;33m(\u001b[0m\u001b[1;34mf\"{df.loc[index,'County']} County, ({us_state_abbrev[df.loc[index,'State']]})\"\u001b[0m\u001b[1;33m)\u001b[0m\u001b[1;33m\u001b[0m\u001b[1;33m\u001b[0m\u001b[0m\n\u001b[0m\u001b[0;32m      5\u001b[0m \u001b[1;33m\u001b[0m\u001b[0m\n\u001b[0;32m      6\u001b[0m     \u001b[1;32mreturn\u001b[0m \u001b[0mnew_column\u001b[0m\u001b[1;33m\u001b[0m\u001b[1;33m\u001b[0m\u001b[0m\n",
      "\u001b[1;31mKeyError\u001b[0m: 'Country Of Mexico'"
     ]
    }
   ],
   "source": [
    "combine_state_county(all_years)"
   ]
  },
  {
   "cell_type": "code",
   "execution_count": 22,
   "metadata": {},
   "outputs": [],
   "source": [
    "us_state_abbrev = {\n",
    "    'Alabama': 'AL',\n",
    "    'Alaska': 'AK',\n",
    "    'Arizona': 'AZ',\n",
    "    'Arkansas': 'AR',\n",
    "    'California': 'CA',\n",
    "    'Colorado': 'CO',\n",
    "    'Connecticut': 'CT',\n",
    "    'Delaware': 'DE',\n",
    "    'Florida': 'FL',\n",
    "    'Georgia': 'GA',\n",
    "    'Hawaii': 'HI',\n",
    "    'Idaho': 'ID',\n",
    "    'Illinois': 'IL',\n",
    "    'Indiana': 'IN',\n",
    "    'Iowa': 'IA',\n",
    "    'Kansas': 'KS',\n",
    "    'Kentucky': 'KY',\n",
    "    'Louisiana': 'LA',\n",
    "    'Maine': 'ME',\n",
    "    'Maryland': 'MD',\n",
    "    'Massachusetts': 'MA',\n",
    "    'Michigan': 'MI',\n",
    "    'Minnesota': 'MN',\n",
    "    'Mississippi': 'MS',\n",
    "    'Missouri': 'MO',\n",
    "    'Montana': 'MT',\n",
    "    'Nebraska': 'NE',\n",
    "    'Nevada': 'NV',\n",
    "    'New Hampshire': 'NH',\n",
    "    'New Jersey': 'NJ',\n",
    "    'New Mexico': 'NM',\n",
    "    'New York': 'NY',\n",
    "    'North Carolina': 'NC',\n",
    "    'North Dakota': 'ND',\n",
    "    'Ohio': 'OH',\n",
    "    'Oklahoma': 'OK',\n",
    "    'Oregon': 'OR',\n",
    "    'Pennsylvania': 'PA',\n",
    "    'Rhode Island': 'RI',\n",
    "    'South Carolina': 'SC',\n",
    "    'South Dakota': 'SD',\n",
    "    'Tennessee': 'TN',\n",
    "    'Texas': 'TX',\n",
    "    'Utah': 'UT',\n",
    "    'Vermont': 'VT',\n",
    "    'Virginia': 'VA',\n",
    "    'Washington': 'WA',\n",
    "    'West Virginia': 'WV',\n",
    "    'Wisconsin': 'WI',\n",
    "    'Wyoming': 'WY',\n",
    "}"
   ]
  },
  {
   "cell_type": "code",
   "execution_count": 24,
   "metadata": {},
   "outputs": [
    {
     "data": {
      "text/plain": [
       "(78543, 44)"
      ]
     },
     "execution_count": 24,
     "metadata": {},
     "output_type": "execute_result"
    }
   ],
   "source": [
    "small_area_df.shape"
   ]
  },
  {
   "cell_type": "code",
   "execution_count": 39,
   "metadata": {},
   "outputs": [
    {
     "data": {
      "text/plain": [
       "0         [Autauga, County, (AL)]\n",
       "1         [Autauga, County, (AL)]\n",
       "2         [Autauga, County, (AL)]\n",
       "3         [Autauga, County, (AL)]\n",
       "4         [Autauga, County, (AL)]\n",
       "5         [Autauga, County, (AL)]\n",
       "6         [Autauga, County, (AL)]\n",
       "7         [Autauga, County, (AL)]\n",
       "8         [Autauga, County, (AL)]\n",
       "9         [Autauga, County, (AL)]\n",
       "10        [Autauga, County, (AL)]\n",
       "11        [Autauga, County, (AL)]\n",
       "12        [Autauga, County, (AL)]\n",
       "13        [Autauga, County, (AL)]\n",
       "14        [Autauga, County, (AL)]\n",
       "15        [Autauga, County, (AL)]\n",
       "16        [Autauga, County, (AL)]\n",
       "17        [Autauga, County, (AL)]\n",
       "18        [Autauga, County, (AL)]\n",
       "19        [Autauga, County, (AL)]\n",
       "20        [Autauga, County, (AL)]\n",
       "21        [Autauga, County, (AL)]\n",
       "22        [Autauga, County, (AL)]\n",
       "23        [Autauga, County, (AL)]\n",
       "24        [Autauga, County, (AL)]\n",
       "25        [Baldwin, County, (AL)]\n",
       "26        [Baldwin, County, (AL)]\n",
       "27        [Baldwin, County, (AL)]\n",
       "28        [Baldwin, County, (AL)]\n",
       "29        [Baldwin, County, (AL)]\n",
       "                   ...           \n",
       "78513    [Washakie, County, (WY)]\n",
       "78514    [Washakie, County, (WY)]\n",
       "78515    [Washakie, County, (WY)]\n",
       "78516    [Washakie, County, (WY)]\n",
       "78517    [Washakie, County, (WY)]\n",
       "78518      [Weston, County, (WY)]\n",
       "78519      [Weston, County, (WY)]\n",
       "78520      [Weston, County, (WY)]\n",
       "78521      [Weston, County, (WY)]\n",
       "78522      [Weston, County, (WY)]\n",
       "78523      [Weston, County, (WY)]\n",
       "78524      [Weston, County, (WY)]\n",
       "78525      [Weston, County, (WY)]\n",
       "78526      [Weston, County, (WY)]\n",
       "78527      [Weston, County, (WY)]\n",
       "78528      [Weston, County, (WY)]\n",
       "78529      [Weston, County, (WY)]\n",
       "78530      [Weston, County, (WY)]\n",
       "78531      [Weston, County, (WY)]\n",
       "78532      [Weston, County, (WY)]\n",
       "78533      [Weston, County, (WY)]\n",
       "78534      [Weston, County, (WY)]\n",
       "78535      [Weston, County, (WY)]\n",
       "78536      [Weston, County, (WY)]\n",
       "78537      [Weston, County, (WY)]\n",
       "78538      [Weston, County, (WY)]\n",
       "78539      [Weston, County, (WY)]\n",
       "78540      [Weston, County, (WY)]\n",
       "78541      [Weston, County, (WY)]\n",
       "78542      [Weston, County, (WY)]\n",
       "Name: State / County Name, Length: 78543, dtype: object"
      ]
     },
     "execution_count": 39,
     "metadata": {},
     "output_type": "execute_result"
    }
   ],
   "source": [
    "small_area_df['State / County Name'].split()"
   ]
  },
  {
   "cell_type": "code",
   "execution_count": null,
   "metadata": {},
   "outputs": [],
   "source": []
  }
 ],
 "metadata": {
  "kernelspec": {
   "display_name": "Python 3",
   "language": "python",
   "name": "python3"
  },
  "language_info": {
   "codemirror_mode": {
    "name": "ipython",
    "version": 3
   },
   "file_extension": ".py",
   "mimetype": "text/x-python",
   "name": "python",
   "nbconvert_exporter": "python",
   "pygments_lexer": "ipython3",
   "version": "3.6.7"
  }
 },
 "nbformat": 4,
 "nbformat_minor": 2
}
