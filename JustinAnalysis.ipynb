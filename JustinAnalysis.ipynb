{
 "cells": [
  {
   "cell_type": "code",
   "execution_count": 9,
   "metadata": {},
   "outputs": [],
   "source": [
    "#Import dependencies\n",
    "import os\n",
    "import matplotlib.pyplot as plt\n",
    "import pandas as pd\n",
    "import numpy as np\n",
    "import requests\n",
    "import time\n",
    "import json\n",
    "import datetime\n",
    "import scipy.stats as stats\n",
    "from scipy.stats import linregress"
   ]
  },
  {
   "cell_type": "code",
   "execution_count": null,
   "metadata": {},
   "outputs": [],
   "source": [
    "#Dave's Code"
   ]
  },
  {
   "cell_type": "code",
   "execution_count": null,
   "metadata": {},
   "outputs": [],
   "source": []
  },
  {
   "cell_type": "code",
   "execution_count": null,
   "metadata": {},
   "outputs": [],
   "source": []
  },
  {
   "cell_type": "code",
   "execution_count": null,
   "metadata": {},
   "outputs": [],
   "source": []
  },
  {
   "cell_type": "code",
   "execution_count": null,
   "metadata": {},
   "outputs": [],
   "source": [
    "#Doug's Code"
   ]
  },
  {
   "cell_type": "code",
   "execution_count": null,
   "metadata": {},
   "outputs": [],
   "source": []
  },
  {
   "cell_type": "code",
   "execution_count": null,
   "metadata": {},
   "outputs": [],
   "source": []
  },
  {
   "cell_type": "code",
   "execution_count": null,
   "metadata": {},
   "outputs": [],
   "source": []
  },
  {
   "cell_type": "code",
   "execution_count": null,
   "metadata": {},
   "outputs": [],
   "source": [
    "#Scott's Code"
   ]
  },
  {
   "cell_type": "code",
   "execution_count": null,
   "metadata": {},
   "outputs": [],
   "source": []
  },
  {
   "cell_type": "code",
   "execution_count": null,
   "metadata": {},
   "outputs": [],
   "source": []
  },
  {
   "cell_type": "code",
   "execution_count": null,
   "metadata": {},
   "outputs": [],
   "source": []
  },
  {
   "cell_type": "code",
   "execution_count": null,
   "metadata": {},
   "outputs": [],
   "source": [
    "#Megan's Code"
   ]
  },
  {
   "cell_type": "code",
   "execution_count": null,
   "metadata": {},
   "outputs": [],
   "source": []
  },
  {
   "cell_type": "code",
   "execution_count": null,
   "metadata": {},
   "outputs": [],
   "source": []
  },
  {
   "cell_type": "code",
   "execution_count": null,
   "metadata": {},
   "outputs": [],
   "source": []
  },
  {
   "cell_type": "code",
   "execution_count": 12,
   "metadata": {},
   "outputs": [
    {
     "data": {
      "text/html": [
       "<div>\n",
       "<style scoped>\n",
       "    .dataframe tbody tr th:only-of-type {\n",
       "        vertical-align: middle;\n",
       "    }\n",
       "\n",
       "    .dataframe tbody tr th {\n",
       "        vertical-align: top;\n",
       "    }\n",
       "\n",
       "    .dataframe thead th {\n",
       "        text-align: right;\n",
       "    }\n",
       "</style>\n",
       "<table border=\"1\" class=\"dataframe\">\n",
       "  <thead>\n",
       "    <tr style=\"text-align: right;\">\n",
       "      <th></th>\n",
       "      <th>Unnamed: 0</th>\n",
       "      <th>Unnamed: 0.1</th>\n",
       "      <th>State</th>\n",
       "      <th>County</th>\n",
       "      <th>Year</th>\n",
       "      <th>Days with AQI</th>\n",
       "      <th>Good Days</th>\n",
       "      <th>Moderate Days</th>\n",
       "      <th>Unhealthy for Sensitive Groups Days</th>\n",
       "      <th>Unhealthy Days</th>\n",
       "      <th>...</th>\n",
       "      <th>PctBelowPoverty Population</th>\n",
       "      <th>PctBelowPoverty Under 18</th>\n",
       "      <th>PctBelowPoverty 18 to 64</th>\n",
       "      <th>PctBelowPoverty 65 and over</th>\n",
       "      <th>PctBelowPoverty Male</th>\n",
       "      <th>PctBelowPoverty Female</th>\n",
       "      <th>PctBelowPoverty 16 and Over</th>\n",
       "      <th>PctBelowPoverty 16 and Over Employed</th>\n",
       "      <th>State Code</th>\n",
       "      <th>County Code</th>\n",
       "    </tr>\n",
       "  </thead>\n",
       "  <tbody>\n",
       "    <tr>\n",
       "      <th>0</th>\n",
       "      <td>0</td>\n",
       "      <td>0</td>\n",
       "      <td>Alabama</td>\n",
       "      <td>Baldwin</td>\n",
       "      <td>2012</td>\n",
       "      <td>284</td>\n",
       "      <td>226</td>\n",
       "      <td>56</td>\n",
       "      <td>2</td>\n",
       "      <td>0</td>\n",
       "      <td>...</td>\n",
       "      <td>14.1</td>\n",
       "      <td>20.2</td>\n",
       "      <td>14.2</td>\n",
       "      <td>30.5</td>\n",
       "      <td>NaN</td>\n",
       "      <td>NaN</td>\n",
       "      <td>20.1</td>\n",
       "      <td>22.8</td>\n",
       "      <td>1</td>\n",
       "      <td>3</td>\n",
       "    </tr>\n",
       "    <tr>\n",
       "      <th>1</th>\n",
       "      <td>1</td>\n",
       "      <td>3</td>\n",
       "      <td>Alabama</td>\n",
       "      <td>DeKalb</td>\n",
       "      <td>2012</td>\n",
       "      <td>361</td>\n",
       "      <td>282</td>\n",
       "      <td>74</td>\n",
       "      <td>5</td>\n",
       "      <td>0</td>\n",
       "      <td>...</td>\n",
       "      <td>13.3</td>\n",
       "      <td>20.4</td>\n",
       "      <td>12.9</td>\n",
       "      <td>NaN</td>\n",
       "      <td>NaN</td>\n",
       "      <td>NaN</td>\n",
       "      <td>36.6</td>\n",
       "      <td>31.7</td>\n",
       "      <td>1</td>\n",
       "      <td>49</td>\n",
       "    </tr>\n",
       "    <tr>\n",
       "      <th>2</th>\n",
       "      <td>2</td>\n",
       "      <td>4</td>\n",
       "      <td>Alabama</td>\n",
       "      <td>Elmore</td>\n",
       "      <td>2012</td>\n",
       "      <td>245</td>\n",
       "      <td>212</td>\n",
       "      <td>33</td>\n",
       "      <td>0</td>\n",
       "      <td>0</td>\n",
       "      <td>...</td>\n",
       "      <td>13.0</td>\n",
       "      <td>19.9</td>\n",
       "      <td>10.1</td>\n",
       "      <td>19.0</td>\n",
       "      <td>NaN</td>\n",
       "      <td>NaN</td>\n",
       "      <td>14.5</td>\n",
       "      <td>11.8</td>\n",
       "      <td>1</td>\n",
       "      <td>51</td>\n",
       "    </tr>\n",
       "    <tr>\n",
       "      <th>3</th>\n",
       "      <td>3</td>\n",
       "      <td>5</td>\n",
       "      <td>Alabama</td>\n",
       "      <td>Etowah</td>\n",
       "      <td>2012</td>\n",
       "      <td>277</td>\n",
       "      <td>229</td>\n",
       "      <td>48</td>\n",
       "      <td>0</td>\n",
       "      <td>0</td>\n",
       "      <td>...</td>\n",
       "      <td>21.2</td>\n",
       "      <td>32.4</td>\n",
       "      <td>19.8</td>\n",
       "      <td>27.8</td>\n",
       "      <td>NaN</td>\n",
       "      <td>NaN</td>\n",
       "      <td>40.5</td>\n",
       "      <td>41.0</td>\n",
       "      <td>1</td>\n",
       "      <td>55</td>\n",
       "    </tr>\n",
       "    <tr>\n",
       "      <th>4</th>\n",
       "      <td>4</td>\n",
       "      <td>6</td>\n",
       "      <td>Alabama</td>\n",
       "      <td>Houston</td>\n",
       "      <td>2012</td>\n",
       "      <td>284</td>\n",
       "      <td>238</td>\n",
       "      <td>46</td>\n",
       "      <td>0</td>\n",
       "      <td>0</td>\n",
       "      <td>...</td>\n",
       "      <td>19.2</td>\n",
       "      <td>28.8</td>\n",
       "      <td>17.1</td>\n",
       "      <td>38.8</td>\n",
       "      <td>NaN</td>\n",
       "      <td>NaN</td>\n",
       "      <td>38.4</td>\n",
       "      <td>31.9</td>\n",
       "      <td>1</td>\n",
       "      <td>69</td>\n",
       "    </tr>\n",
       "  </tbody>\n",
       "</table>\n",
       "<p>5 rows × 48 columns</p>\n",
       "</div>"
      ],
      "text/plain": [
       "   Unnamed: 0  Unnamed: 0.1    State   County  Year  Days with AQI  Good Days  \\\n",
       "0           0             0  Alabama  Baldwin  2012            284        226   \n",
       "1           1             3  Alabama   DeKalb  2012            361        282   \n",
       "2           2             4  Alabama   Elmore  2012            245        212   \n",
       "3           3             5  Alabama   Etowah  2012            277        229   \n",
       "4           4             6  Alabama  Houston  2012            284        238   \n",
       "\n",
       "   Moderate Days  Unhealthy for Sensitive Groups Days  Unhealthy Days  \\\n",
       "0             56                                    2               0   \n",
       "1             74                                    5               0   \n",
       "2             33                                    0               0   \n",
       "3             48                                    0               0   \n",
       "4             46                                    0               0   \n",
       "\n",
       "      ...       PctBelowPoverty Population  PctBelowPoverty Under 18  \\\n",
       "0     ...                             14.1                      20.2   \n",
       "1     ...                             13.3                      20.4   \n",
       "2     ...                             13.0                      19.9   \n",
       "3     ...                             21.2                      32.4   \n",
       "4     ...                             19.2                      28.8   \n",
       "\n",
       "   PctBelowPoverty 18 to 64  PctBelowPoverty 65 and over  \\\n",
       "0                      14.2                         30.5   \n",
       "1                      12.9                          NaN   \n",
       "2                      10.1                         19.0   \n",
       "3                      19.8                         27.8   \n",
       "4                      17.1                         38.8   \n",
       "\n",
       "   PctBelowPoverty Male  PctBelowPoverty Female  PctBelowPoverty 16 and Over  \\\n",
       "0                   NaN                     NaN                         20.1   \n",
       "1                   NaN                     NaN                         36.6   \n",
       "2                   NaN                     NaN                         14.5   \n",
       "3                   NaN                     NaN                         40.5   \n",
       "4                   NaN                     NaN                         38.4   \n",
       "\n",
       "   PctBelowPoverty 16 and Over Employed  State Code  County Code  \n",
       "0                                  22.8           1            3  \n",
       "1                                  31.7           1           49  \n",
       "2                                  11.8           1           51  \n",
       "3                                  41.0           1           55  \n",
       "4                                  31.9           1           69  \n",
       "\n",
       "[5 rows x 48 columns]"
      ]
     },
     "execution_count": 12,
     "metadata": {},
     "output_type": "execute_result"
    }
   ],
   "source": [
    "#Justin's Code\n",
    "justin_df = pd.read_csv(\"census_and_epa.csv\")\n",
    "justin_df\n",
    "justin_df.drop(columns=['Total Male', 'Total Female', 'PctBelowPoverty Male', 'PctBelowPoverty Female', 'Unnamed: 0', 'Unnamed: 0.1'])\n",
    "poverty_by_year_df = justin_df[['Year', 'PctBelowPoverty Population']]\n",
    "year_grouped_series = poverty_by_year_df.groupby(['Year'])\n",
    "year_list = poverty_by_year_df['Year'].unique()\n",
    "\n",
    "percent_poverty = year_grouped_series[\"PctBelowPoverty Population\"].mean()\n",
    "\n",
    "final_poverty_grouped_df = pd.DataFrame({\"year\": year_list, \"Percent Below Poverty\": percent_poverty})\n",
    "\n",
    "x_axis = year_list\n",
    "poverty_points = final_poverty_grouped_df['Percent Below Poverty']\n"
   ]
  },
  {
   "cell_type": "code",
   "execution_count": 47,
   "metadata": {},
   "outputs": [
    {
     "data": {
      "image/png": "[encoded data removed]",
      "text/plain": [
       "<Figure size 432x288 with 1 Axes>"
      ]
     },
     "metadata": {
      "needs_background": "light"
     },
     "output_type": "display_data"
    }
   ],
   "source": [
    "plt.plot(x_axis, poverty_points)\n",
    "plt.show()"
   ]
  },
  {
   "cell_type": "code",
   "execution_count": 5,
   "metadata": {},
   "outputs": [],
   "source": [
    "AQI_by_year_df = justin_df[['Year', 'Median AQI']]\n",
    "year_grouped_series_AQI = AQI_by_year_df.groupby(['Year'])\n",
    "\n",
    "median_AQI_series = year_grouped_series_AQI[\"Median AQI\"].mean()\n",
    "\n",
    "final_AQI_grouped_df = pd.DataFrame({\"year\": year_list, \"Median AQI\": median_AQI_series})\n",
    "\n",
    "AQI_points = final_AQI_grouped_df['Median AQI']"
   ]
  },
  {
   "cell_type": "code",
   "execution_count": 26,
   "metadata": {},
   "outputs": [
    {
     "data": {
      "image/png": "[encoded data removed]",
      "text/plain": [
       "<Figure size 432x288 with 2 Axes>"
      ]
     },
     "metadata": {
      "needs_background": "light"
     },
     "output_type": "display_data"
    }
   ],
   "source": [
    "fig, ax1 = plt.subplots()\n",
    "\n",
    "ax2 = ax1.twinx()\n",
    "ax1.plot(x_axis, poverty_points, 'g-')\n",
    "ax2.plot(x_axis, AQI_points, 'b-')\n",
    "\n",
    "\n",
    "\n",
    "ax1.set_xlabel('Year')\n",
    "ax1.set_ylabel('Percent of Population Below Poverty Line', color='g')\n",
    "ax2.set_ylabel('Median Air Quality Indicator', color='b')\n",
    "plt.title('Comparing Poverty and Air Quality over Time')\n",
    "plt.savefig('poverty vs air quality plot', dpi=200)\n",
    "plt.show()"
   ]
  },
  {
   "cell_type": "code",
   "execution_count": null,
   "metadata": {},
   "outputs": [],
   "source": []
  },
  {
   "cell_type": "code",
   "execution_count": null,
   "metadata": {},
   "outputs": [],
   "source": []
  },
  {
   "cell_type": "code",
   "execution_count": null,
   "metadata": {},
   "outputs": [],
   "source": []
  }
 ],
 "metadata": {
  "kernelspec": {
   "display_name": "Python 3",
   "language": "python",
   "name": "python3"
  },
  "language_info": {
   "codemirror_mode": {
    "name": "ipython",
    "version": 3
   },
   "file_extension": ".py",
   "mimetype": "text/x-python",
   "name": "python",
   "nbconvert_exporter": "python",
   "pygments_lexer": "ipython3",
   "version": "3.6.7"
  }
 },
 "nbformat": 4,
 "nbformat_minor": 2
}
